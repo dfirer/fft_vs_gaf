{
 "cells": [
  {
   "cell_type": "code",
   "execution_count": 1,
   "metadata": {},
   "outputs": [],
   "source": [
    "from pathlib import Path\n",
    "import matplotlib.pyplot as plt\n",
    "import numpy as np\n",
    "from sklearn import svm, metrics, datasets\n",
    "from sklearn.utils import Bunch\n",
    "from sklearn.model_selection import GridSearchCV, train_test_split\n",
    "\n",
    "import os\n",
    "import cv2"
   ]
  },
  {
   "cell_type": "markdown",
   "metadata": {},
   "source": [
    "## Load Images"
   ]
  },
  {
   "cell_type": "code",
   "execution_count": 2,
   "metadata": {},
   "outputs": [],
   "source": [
    "imgs = []\n",
    "labels = []\n",
    "\n",
    "cat_directory = 'output/cat_dog/train/cat/'\n",
    "dog_directory = 'output/cat_dog/train/dog/'\n",
    "\n",
    "for filename in os.listdir(cat_directory):\n",
    "    if filename.endswith(\".jpg\"):\n",
    "        f = cv2.imread(os.path.join(cat_directory, filename))\n",
    "        labels.append('cat')\n",
    "        imgs.append(f)\n",
    "    \n",
    "for filename in os.listdir(dog_directory):\n",
    "    if filename.endswith(\".jpg\"):\n",
    "        f = cv2.imread(os.path.join(dog_directory, filename))\n",
    "        labels.append('dog')\n",
    "        imgs.append(f)\n"
   ]
  },
  {
   "cell_type": "code",
   "execution_count": 3,
   "metadata": {},
   "outputs": [],
   "source": [
    "X_train, X_test, y_train, y_test = train_test_split(\n",
    "    imgs, labels, test_size=0.3,random_state=109)"
   ]
  },
  {
   "cell_type": "code",
   "execution_count": 4,
   "metadata": {},
   "outputs": [],
   "source": [
    "train_img = []\n",
    "train_label = []\n",
    "\n",
    "for i in range(len(X_train)):\n",
    "    if (X_train[i]) is None:\n",
    "        continue\n",
    "    else:\n",
    "        train_img.append(X_train[i])\n",
    "        train_label.append(y_train[i])\n",
    "        \n",
    "for i in range(len(X_test)):\n",
    "    if (X_test[i]) is None:\n",
    "        continue\n",
    "    else:\n",
    "        train_img.append(X_test[i])\n",
    "        train_label.append(y_test[i])"
   ]
  },
  {
   "cell_type": "markdown",
   "metadata": {},
   "source": [
    "### Train"
   ]
  },
  {
   "cell_type": "markdown",
   "metadata": {},
   "source": [
    "#### Reshape"
   ]
  },
  {
   "cell_type": "code",
   "execution_count": 5,
   "metadata": {},
   "outputs": [],
   "source": [
    "np_train = np.asarray(X_train)\n",
    "np_train_label = np.asarray(y_train)\n",
    "\n",
    "np_test = np.asarray(X_test)\n",
    "np_test_label = np.asarray(y_test)"
   ]
  },
  {
   "cell_type": "code",
   "execution_count": 6,
   "metadata": {},
   "outputs": [
    {
     "data": {
      "text/plain": [
       "(147, 50, 50, 3)"
      ]
     },
     "execution_count": 6,
     "metadata": {},
     "output_type": "execute_result"
    }
   ],
   "source": [
    "np_train.shape"
   ]
  },
  {
   "cell_type": "code",
   "execution_count": 7,
   "metadata": {},
   "outputs": [],
   "source": [
    "train = np_train.reshape(np.prod(np_train.shape[:1]),-1)\n",
    "test = np_test.reshape(np.prod(np_test.shape[:1]),-1)"
   ]
  },
  {
   "cell_type": "code",
   "execution_count": 8,
   "metadata": {},
   "outputs": [
    {
     "data": {
      "text/plain": [
       "(147, 7500)"
      ]
     },
     "execution_count": 8,
     "metadata": {},
     "output_type": "execute_result"
    }
   ],
   "source": [
    "train.shape"
   ]
  },
  {
   "cell_type": "code",
   "execution_count": 9,
   "metadata": {},
   "outputs": [
    {
     "data": {
      "text/plain": [
       "(63, 7500)"
      ]
     },
     "execution_count": 9,
     "metadata": {},
     "output_type": "execute_result"
    }
   ],
   "source": [
    "test.shape"
   ]
  },
  {
   "cell_type": "code",
   "execution_count": 10,
   "metadata": {},
   "outputs": [
    {
     "data": {
      "text/plain": [
       "SVC(C=1.0, break_ties=False, cache_size=200, class_weight=None, coef0=0.0,\n",
       "    decision_function_shape='ovr', degree=3, gamma='auto', kernel='rbf',\n",
       "    max_iter=-1, probability=False, random_state=None, shrinking=True,\n",
       "    tol=0.001, verbose=False)"
      ]
     },
     "execution_count": 10,
     "metadata": {},
     "output_type": "execute_result"
    }
   ],
   "source": [
    "clf = svm.SVC(gamma='auto')\n",
    "clf.fit(train, np_train_label)"
   ]
  },
  {
   "cell_type": "code",
   "execution_count": 11,
   "metadata": {},
   "outputs": [],
   "source": [
    "y_pred = clf.predict(test)"
   ]
  },
  {
   "cell_type": "code",
   "execution_count": 12,
   "metadata": {},
   "outputs": [
    {
     "data": {
      "text/plain": [
       "array(['cat', 'dog', 'cat', 'dog', 'cat', 'dog', 'cat', 'cat', 'dog',\n",
       "       'cat', 'cat', 'cat', 'cat', 'cat', 'cat', 'dog', 'cat', 'cat',\n",
       "       'cat', 'dog', 'cat', 'cat', 'cat', 'dog', 'dog', 'cat', 'cat',\n",
       "       'cat', 'cat', 'cat', 'cat', 'cat', 'dog', 'dog', 'cat', 'dog',\n",
       "       'dog', 'dog', 'dog', 'cat', 'cat', 'dog', 'cat', 'dog', 'dog',\n",
       "       'cat', 'dog', 'cat', 'dog', 'dog', 'dog', 'cat', 'cat', 'cat',\n",
       "       'dog', 'cat', 'dog', 'cat', 'cat', 'dog', 'dog', 'dog', 'dog'],\n",
       "      dtype='<U3')"
      ]
     },
     "execution_count": 12,
     "metadata": {},
     "output_type": "execute_result"
    }
   ],
   "source": [
    "np_test_label"
   ]
  },
  {
   "cell_type": "code",
   "execution_count": 13,
   "metadata": {},
   "outputs": [
    {
     "name": "stdout",
     "output_type": "stream",
     "text": [
      "Classification report for - \n",
      "SVC(C=1.0, break_ties=False, cache_size=200, class_weight=None, coef0=0.0,\n",
      "    decision_function_shape='ovr', degree=3, gamma='auto', kernel='rbf',\n",
      "    max_iter=-1, probability=False, random_state=None, shrinking=True,\n",
      "    tol=0.001, verbose=False):\n",
      "              precision    recall  f1-score   support\n",
      "\n",
      "         cat       0.57      1.00      0.73        36\n",
      "         dog       0.00      0.00      0.00        27\n",
      "\n",
      "    accuracy                           0.57        63\n",
      "   macro avg       0.29      0.50      0.36        63\n",
      "weighted avg       0.33      0.57      0.42        63\n",
      "\n",
      "\n"
     ]
    },
    {
     "name": "stderr",
     "output_type": "stream",
     "text": [
      "c:\\umdprojects\\anaconda\\lib\\site-packages\\sklearn\\metrics\\_classification.py:1272: UndefinedMetricWarning: Precision and F-score are ill-defined and being set to 0.0 in labels with no predicted samples. Use `zero_division` parameter to control this behavior.\n",
      "  _warn_prf(average, modifier, msg_start, len(result))\n"
     ]
    }
   ],
   "source": [
    "print(\"Classification report for - \\n{}:\\n{}\\n\".format(\n",
    "    clf, metrics.classification_report(np_test_label, y_pred)))"
   ]
  }
 ],
 "metadata": {
  "kernelspec": {
   "display_name": "Python 3",
   "language": "python",
   "name": "python3"
  },
  "language_info": {
   "codemirror_mode": {
    "name": "ipython",
    "version": 3
   },
   "file_extension": ".py",
   "mimetype": "text/x-python",
   "name": "python",
   "nbconvert_exporter": "python",
   "pygments_lexer": "ipython3",
   "version": "3.7.6"
  }
 },
 "nbformat": 4,
 "nbformat_minor": 4
}
